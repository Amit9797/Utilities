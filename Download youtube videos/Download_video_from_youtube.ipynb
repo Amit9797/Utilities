{
 "cells": [
  {
   "cell_type": "code",
   "execution_count": 1,
   "id": "d7dbd477",
   "metadata": {},
   "outputs": [
    {
     "name": "stdout",
     "output_type": "stream",
     "text": [
      "Requirement already satisfied: pytube in c:\\users\\amits\\anaconda3\\lib\\site-packages (12.1.0)\n",
      "Note: you may need to restart the kernel to use updated packages.\n"
     ]
    }
   ],
   "source": [
    "pip install pytube"
   ]
  },
  {
   "cell_type": "code",
   "execution_count": 4,
   "id": "97693274",
   "metadata": {},
   "outputs": [],
   "source": [
    "url = \"https://www.youtube.com/playlist?list=PLblh5JKOoLUICTaGLRoHQDuF_7q2GfuJF\""
   ]
  },
  {
   "cell_type": "code",
   "execution_count": 7,
   "id": "eba004ff",
   "metadata": {},
   "outputs": [
    {
     "name": "stdout",
     "output_type": "stream",
     "text": [
      "84\n",
      "https://www.youtube.com/watch?v=Gv9_4yMHFhI\n",
      "https://www.youtube.com/watch?v=fSytzGwwBVw\n",
      "https://www.youtube.com/watch?v=Kdsp6soqA7o\n",
      "https://www.youtube.com/watch?v=vP06aMoz4v8\n",
      "https://www.youtube.com/watch?v=EuBBz3bI-aA\n",
      "https://www.youtube.com/watch?v=YtebGVx-Fxw\n",
      "https://www.youtube.com/watch?v=PaFPbb66DxQ\n",
      "https://www.youtube.com/watch?v=nk2CQITm_eo\n",
      "https://www.youtube.com/watch?v=zITIFTsivN8\n",
      "https://www.youtube.com/watch?v=NF5_btOaCig\n",
      "https://www.youtube.com/watch?v=CqLGvwi-5Pc\n",
      "https://www.youtube.com/watch?v=4jRBRDbJemM\n",
      "https://www.youtube.com/watch?v=qcvAqAH60Yw\n",
      "https://www.youtube.com/watch?v=ARfXDSkQf1Y\n",
      "https://www.youtube.com/watch?v=8nm0G-1uJzA\n",
      "https://www.youtube.com/watch?v=yIYKR4sgzI8\n",
      "https://www.youtube.com/watch?v=vN5cNN2-HWE\n",
      "https://www.youtube.com/watch?v=BfKanl1aSG0\n",
      "https://www.youtube.com/watch?v=xxFYro8QuXA\n",
      "https://www.youtube.com/watch?v=9T0wlKdew6I\n",
      "https://www.youtube.com/watch?v=C4N3_XJJ-jU\n",
      "https://www.youtube.com/watch?v=JC56jS2gVUE\n",
      "https://www.youtube.com/watch?v=Q81RR3yKn30\n",
      "https://www.youtube.com/watch?v=NGf0voTMlcs\n",
      "https://www.youtube.com/watch?v=Xm2C_gTAl8c\n",
      "https://www.youtube.com/watch?v=1dKRdX9bfIo\n",
      "https://www.youtube.com/watch?v=ctmNq7FgbvI\n",
      "https://www.youtube.com/watch?v=FgakZw6K1QQ\n",
      "https://www.youtube.com/watch?v=HMOI_lkzW08\n",
      "https://www.youtube.com/watch?v=oRvgq966yZg\n",
      "https://www.youtube.com/watch?v=0Jp4gsfOLMs\n",
      "https://www.youtube.com/watch?v=Lsue2gEM9D0\n",
      "https://www.youtube.com/watch?v=azXCzI57Yfc\n",
      "https://www.youtube.com/watch?v=i4iUvjsGCMc\n",
      "https://www.youtube.com/watch?v=GEn-_dAyYME\n",
      "https://www.youtube.com/watch?v=pGAUHhLYp5Q\n",
      "https://www.youtube.com/watch?v=NEaUSP4YerM\n",
      "https://www.youtube.com/watch?v=7xHsRkOdVwo\n",
      "https://www.youtube.com/watch?v=4b5d3muPQmA\n",
      "https://www.youtube.com/watch?v=HVXime0nQeI\n",
      "https://www.youtube.com/watch?v=O2L2Uv9pdDA\n",
      "https://www.youtube.com/watch?v=H3EjCKtlVog\n",
      "https://www.youtube.com/watch?v=_L39rN6gz7Y\n",
      "https://www.youtube.com/watch?v=wpNl-JwwplA\n",
      "https://www.youtube.com/watch?v=g9c66TUylZ4\n",
      "https://www.youtube.com/watch?v=D0efHEJsfHo\n",
      "https://www.youtube.com/watch?v=q90UDEgYqeI\n",
      "https://www.youtube.com/watch?v=J4Wdy0Wc_xQ\n",
      "https://www.youtube.com/watch?v=sQ870aTKqiM\n",
      "https://www.youtube.com/watch?v=6EXPYzbfLCE\n",
      "https://www.youtube.com/watch?v=wl1myxrtQHQ\n",
      "https://www.youtube.com/watch?v=sDv4f4s2SB8\n",
      "https://www.youtube.com/watch?v=vMh0zPT0tLI\n",
      "https://www.youtube.com/watch?v=LsK-xG1cLYA\n",
      "https://www.youtube.com/watch?v=3CC4N4z3GJc\n",
      "https://www.youtube.com/watch?v=2xudPOBz-vs\n",
      "https://www.youtube.com/watch?v=jxuNLH5dXCs\n",
      "https://www.youtube.com/watch?v=StWY5QWMXCw\n",
      "https://www.youtube.com/watch?v=W4sYsXGeCls\n",
      "https://www.youtube.com/watch?v=efR1C6CvhmE\n",
      "https://www.youtube.com/watch?v=Toet3EiSFcM\n",
      "https://www.youtube.com/watch?v=Qc5IyLW_hns\n",
      "https://www.youtube.com/watch?v=8A7L0GsBiLQ\n",
      "https://www.youtube.com/watch?v=OtD8wVaFm6E\n",
      "https://www.youtube.com/watch?v=8b1JEDvenQU\n",
      "https://www.youtube.com/watch?v=ZVFeW798-2I\n",
      "https://www.youtube.com/watch?v=oRrKeUCEbq8\n",
      "https://www.youtube.com/watch?v=GrJP9FLV3FE\n",
      "https://www.youtube.com/watch?v=CqOfi41LfDw\n",
      "https://www.youtube.com/watch?v=IN2XmBhILt4\n",
      "https://www.youtube.com/watch?v=iyn2zdALii8\n",
      "https://www.youtube.com/watch?v=GKZoOHXGcLo\n",
      "https://www.youtube.com/watch?v=68BZ5f7P94E\n",
      "https://www.youtube.com/watch?v=83LYR-1IcjA\n",
      "https://www.youtube.com/watch?v=KpKog-L9veg\n",
      "https://www.youtube.com/watch?v=M59JElEPgIg\n",
      "https://www.youtube.com/watch?v=6ArSys5qHAU\n",
      "https://www.youtube.com/watch?v=xBEh66V9gZo\n",
      "https://www.youtube.com/watch?v=HGwBXDKFk9I\n",
      "https://www.youtube.com/watch?v=L35fFDpwIM4\n",
      "https://www.youtube.com/watch?v=Vf7oJ6z2LCc\n",
      "https://www.youtube.com/watch?v=vikkiwjQqfU\n",
      "https://www.youtube.com/watch?v=RDZUdRSDOok\n",
      "https://www.youtube.com/watch?v=AsNTP8Kwu80\n"
     ]
    }
   ],
   "source": [
    "from pytube import Playlist\n",
    "import re\n",
    "playlist = Playlist(url)\n",
    "\n",
    "playlist._video_regex = re.compile(r\"\\\"url\\\":\\\"(/watch\\?v=[\\w-]*)\")\n",
    "\n",
    "print(len(playlist.video_urls))\n",
    "\n",
    "for url in playlist.video_urls:\n",
    "    print(url)\n",
    "\n",
    "for video in playlist.videos:\n",
    "    video.streams.get_highest_resolution().download()"
   ]
  },
  {
   "cell_type": "code",
   "execution_count": null,
   "id": "92aaa897",
   "metadata": {},
   "outputs": [],
   "source": [
    "Playlist."
   ]
  }
 ],
 "metadata": {
  "kernelspec": {
   "display_name": "Python 3",
   "language": "python",
   "name": "python3"
  },
  "language_info": {
   "codemirror_mode": {
    "name": "ipython",
    "version": 3
   },
   "file_extension": ".py",
   "mimetype": "text/x-python",
   "name": "python",
   "nbconvert_exporter": "python",
   "pygments_lexer": "ipython3",
   "version": "3.8.8"
  }
 },
 "nbformat": 4,
 "nbformat_minor": 5
}
